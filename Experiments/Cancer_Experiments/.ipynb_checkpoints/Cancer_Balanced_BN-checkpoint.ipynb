{
 "cells": [
  {
   "cell_type": "markdown",
   "metadata": {
    "colab_type": "text",
    "id": "view-in-github"
   },
   "source": [
    "<a href=\"https://colab.research.google.com/github/catarina-moreira/causabilityXAi/blob/master/Diabetes.ipynb\" target=\"_parent\"><img src=\"https://colab.research.google.com/assets/colab-badge.svg\" alt=\"Open In Colab\"/></a>"
   ]
  },
  {
   "cell_type": "markdown",
   "metadata": {
    "colab_type": "text",
    "id": "KJKi9vUWhXI2"
   },
   "source": [
    "# Demystifying Predictive Black-Box Models: An Interpretable Probabilistic Approach\n",
    "\n",
    "Catarina Moreira, Yu-Liang Chou, Mythreyi Velmurugan, Renuka Sindhgatta Rajan, Chun Ouyang, Peter Bruza\n",
    "\n",
    "**Abstract** \n"
   ]
  },
  {
   "cell_type": "code",
   "execution_count": null,
   "metadata": {
    "colab": {
     "base_uri": "https://localhost:8080/",
     "height": 118
    },
    "colab_type": "code",
    "executionInfo": {
     "elapsed": 45667,
     "status": "ok",
     "timestamp": 1594207308978,
     "user": {
      "displayName": "Leon C",
      "photoUrl": "https://lh3.googleusercontent.com/a-/AOh14GirxcSFELKJsfIAZZuEJ9ZecG__1hzk1e5zOJAqUA=s64",
      "userId": "16235014008629953036"
     },
     "user_tz": -600
    },
    "id": "6oPq2LQo29TK",
    "outputId": "a832922b-1ac2-4261-b682-bd9c653de920"
   },
   "outputs": [],
   "source": [
    "from google.colab import drive\n",
    "drive.mount('/content/drive')\n"
   ]
  },
  {
   "cell_type": "code",
   "execution_count": null,
   "metadata": {
    "colab": {},
    "colab_type": "code",
    "executionInfo": {
     "elapsed": 74118,
     "status": "ok",
     "timestamp": 1594207337437,
     "user": {
      "displayName": "Leon C",
      "photoUrl": "https://lh3.googleusercontent.com/a-/AOh14GirxcSFELKJsfIAZZuEJ9ZecG__1hzk1e5zOJAqUA=s64",
      "userId": "16235014008629953036"
     },
     "user_tz": -600
    },
    "id": "SvJNmlUo88XF"
   },
   "outputs": [],
   "source": [
    "from pydrive.auth import GoogleAuth\n",
    "from pydrive.drive import GoogleDrive\n",
    "from google.colab import auth\n",
    "from oauth2client.client import GoogleCredentials\n",
    "\n",
    "# login into my google drive account\n",
    "auth.authenticate_user()\n",
    "gauth = GoogleAuth()\n",
    "gauth.credentials = GoogleCredentials.get_application_default()\n",
    "drive = GoogleDrive(gauth)\n",
    "\n",
    "learning_lib = drive.CreateFile( {'id' : '1wwSN3AIl_dmayKENu5jnc1BRaNPe8BZc'}).GetContentFile(\"learning.py\")\n"
   ]
  },
  {
   "cell_type": "code",
   "execution_count": null,
   "metadata": {
    "ExecuteTime": {
     "end_time": "2020-07-12T02:43:54.572918Z",
     "start_time": "2020-07-12T02:43:54.569843Z"
    },
    "colab": {},
    "colab_type": "code",
    "executionInfo": {
     "elapsed": 74117,
     "status": "ok",
     "timestamp": 1594207337442,
     "user": {
      "displayName": "Leon C",
      "photoUrl": "https://lh3.googleusercontent.com/a-/AOh14GirxcSFELKJsfIAZZuEJ9ZecG__1hzk1e5zOJAqUA=s64",
      "userId": "16235014008629953036"
     },
     "user_tz": -600
    },
    "id": "5Arnv2vDgvSv"
   },
   "outputs": [],
   "source": [
    "# Install tensorflow\n",
    "try:\n",
    "    # tensorflow_version only exists in Colab\n",
    "    %tensorflow_version 2.x\n",
    "except Exception:\n",
    "    pass"
   ]
  },
  {
   "cell_type": "code",
   "execution_count": null,
   "metadata": {
    "ExecuteTime": {
     "end_time": "2020-07-12T01:37:18.222800Z",
     "start_time": "2020-07-12T01:37:11.979902Z"
    },
    "colab": {
     "base_uri": "https://localhost:8080/",
     "height": 931
    },
    "colab_type": "code",
    "executionInfo": {
     "elapsed": 93535,
     "status": "ok",
     "timestamp": 1594207356886,
     "user": {
      "displayName": "Leon C",
      "photoUrl": "https://lh3.googleusercontent.com/a-/AOh14GirxcSFELKJsfIAZZuEJ9ZecG__1hzk1e5zOJAqUA=s64",
      "userId": "16235014008629953036"
     },
     "user_tz": -600
    },
    "id": "kWSNtSS32sRw",
    "outputId": "3e47bf4f-518a-48a7-edf8-4c5abe7cebbd"
   },
   "outputs": [],
   "source": [
    "# library to deal with Bayesian Networks\n",
    "!pip install pyagrum\n",
    "!pip install lime\n",
    "!pip install shap"
   ]
  },
  {
   "cell_type": "code",
   "execution_count": null,
   "metadata": {
    "ExecuteTime": {
     "end_time": "2020-07-12T02:43:57.264124Z",
     "start_time": "2020-07-12T02:43:56.213671Z"
    },
    "colab": {},
    "colab_type": "code",
    "executionInfo": {
     "elapsed": 94625,
     "status": "ok",
     "timestamp": 1594207357980,
     "user": {
      "displayName": "Leon C",
      "photoUrl": "https://lh3.googleusercontent.com/a-/AOh14GirxcSFELKJsfIAZZuEJ9ZecG__1hzk1e5zOJAqUA=s64",
      "userId": "16235014008629953036"
     },
     "user_tz": -600
    },
    "id": "F8E_-isV2sRz"
   },
   "outputs": [],
   "source": [
    "import lime\n",
    "import shap\n",
    "from lime import lime_tabular\n"
   ]
  },
  {
   "cell_type": "code",
   "execution_count": null,
   "metadata": {
    "ExecuteTime": {
     "end_time": "2020-07-12T02:43:59.290345Z",
     "start_time": "2020-07-12T02:43:57.274663Z"
    },
    "colab": {
     "base_uri": "https://localhost:8080/",
     "height": 33
    },
    "colab_type": "code",
    "executionInfo": {
     "elapsed": 96073,
     "status": "ok",
     "timestamp": 1594207359442,
     "user": {
      "displayName": "Leon C",
      "photoUrl": "https://lh3.googleusercontent.com/a-/AOh14GirxcSFELKJsfIAZZuEJ9ZecG__1hzk1e5zOJAqUA=s64",
      "userId": "16235014008629953036"
     },
     "user_tz": -600
    },
    "id": "ypF1SQdQh8vx",
    "outputId": "0aacbabb-3677-48c1-9c64-be36077fc115"
   },
   "outputs": [],
   "source": [
    "# for reproduciability reasons:\n",
    "import numpy as np\n",
    "import pandas as pd\n",
    "import random as rn\n",
    "import time\n",
    "\n",
    "%matplotlib inline\n",
    "\n",
    "# import auxiliary functions\n",
    "from learning import *\n",
    "\n",
    "import warnings\n",
    "warnings.simplefilter(action='ignore', category=FutureWarning)\n"
   ]
  },
  {
   "cell_type": "code",
   "execution_count": null,
   "metadata": {
    "ExecuteTime": {
     "end_time": "2020-07-12T02:43:59.328431Z",
     "start_time": "2020-07-12T02:43:59.325995Z"
    },
    "colab": {},
    "colab_type": "code",
    "executionInfo": {
     "elapsed": 96075,
     "status": "ok",
     "timestamp": 1594207359447,
     "user": {
      "displayName": "Leon C",
      "photoUrl": "https://lh3.googleusercontent.com/a-/AOh14GirxcSFELKJsfIAZZuEJ9ZecG__1hzk1e5zOJAqUA=s64",
      "userId": "16235014008629953036"
     },
     "user_tz": -600
    },
    "id": "suUZp_ax2sR3"
   },
   "outputs": [],
   "source": [
    "from IPython.display import display, Math, Latex, HTML\n",
    "\n",
    "import pyAgrum as gum\n",
    "import pyAgrum.lib.notebook as gnb\n"
   ]
  },
  {
   "cell_type": "markdown",
   "metadata": {
    "colab_type": "text",
    "id": "moDmfnu62sR8"
   },
   "source": [
    "## Breast Cancer Wisconsin (Diagnostic) Data Set\n",
    "\n",
    "**Context**\n",
    "Features are computed from a digitized image of a fine needle aspirate (FNA) of a breast mass. They describe characteristics of the cell nuclei present in the image. Described in: [K. P. Bennett and O. L. Mangasarian: \"Robust Linear Programming Discrimination of Two Linearly Inseparable Sets\", Optimization Methods and Software 1, 1992, 23-34].\n",
    "\n",
    "\n",
    "Also can be found on UCI Machine Learning Repository: https://archive.ics.uci.edu/ml/datasets/Breast+Cancer+Wisconsin+%28Diagnostic%29\n",
    "\n",
    "**Content**\n",
    "Attribute Information:\n",
    "\n",
    "1) ID number\n",
    "2) Diagnosis (1 = malignant, 0 = benign)\n",
    "\n",
    "3-32)\n",
    "Ten real-valued features are computed for each cell nucleus:\n",
    "\n",
    "a) radius (mean of distances from center to points on the perimeter)\n",
    "b) texture (standard deviation of gray-scale values)\n",
    "c) perimeter\n",
    "d) area\n",
    "e) smoothness (local variation in radius lengths)\n",
    "f) compactness (perimeter^2 / area - 1.0)\n",
    "g) concavity (severity of concave portions of the contour)\n",
    "h) concave points (number of concave portions of the contour)\n",
    "i) symmetry\n",
    "j) fractal dimension (\"coastline approximation\" - 1)\n",
    "\n",
    "The mean, standard error and \"worst\" or largest (mean of the three largest values) of these features were computed for each image, resulting in 30 features. For instance, field 3 is Mean Radius, field 13 is Radius SE, field 23 is Worst Radius.\n",
    "\n",
    "All feature values are recoded with four significant digits.\n",
    "\n",
    "Missing attribute values: none\n",
    "\n",
    "Class distribution: 357 benign, 212 malignant\n"
   ]
  },
  {
   "cell_type": "markdown",
   "metadata": {
    "colab_type": "text",
    "id": "d6F3cADNh_xD"
   },
   "source": [
    "### Checking Dataset"
   ]
  },
  {
   "cell_type": "code",
   "execution_count": null,
   "metadata": {
    "ExecuteTime": {
     "end_time": "2020-07-12T02:43:59.357420Z",
     "start_time": "2020-07-12T02:43:59.355670Z"
    },
    "colab": {},
    "colab_type": "code",
    "executionInfo": {
     "elapsed": 96074,
     "status": "ok",
     "timestamp": 1594207359449,
     "user": {
      "displayName": "Leon C",
      "photoUrl": "https://lh3.googleusercontent.com/a-/AOh14GirxcSFELKJsfIAZZuEJ9ZecG__1hzk1e5zOJAqUA=s64",
      "userId": "16235014008629953036"
     },
     "user_tz": -600
    },
    "id": "OUX7Tyc6v023"
   },
   "outputs": [],
   "source": [
    "# path to project folder\n",
    "# please change to your own\n",
    "PATH = \"/Users/catarina/Google Drive/Colab Notebooks/DDS/\""
   ]
  },
  {
   "cell_type": "code",
   "execution_count": null,
   "metadata": {
    "ExecuteTime": {
     "end_time": "2020-07-12T02:43:59.392618Z",
     "start_time": "2020-07-12T02:43:59.383928Z"
    },
    "colab": {},
    "colab_type": "code",
    "executionInfo": {
     "elapsed": 98115,
     "status": "ok",
     "timestamp": 1594207361495,
     "user": {
      "displayName": "Leon C",
      "photoUrl": "https://lh3.googleusercontent.com/a-/AOh14GirxcSFELKJsfIAZZuEJ9ZecG__1hzk1e5zOJAqUA=s64",
      "userId": "16235014008629953036"
     },
     "user_tz": -600
    },
    "id": "qnF5zKygiH9x"
   },
   "outputs": [],
   "source": [
    "# name of dataset\n",
    "DATASET_NAME = \"breast_cancer.csv\"\n",
    "\n",
    "# variable containing the class labels in this case the dataset contains:\n",
    "# 0 - if not diabetes\n",
    "# 1 - if diabetes\n",
    "class_var = \"diagnosis\"\n",
    "\n",
    "# load dataset\n",
    "dataset_path = PATH + \"datasets/\" + DATASET_NAME\n",
    "data = pd.read_csv( dataset_path ).drop([\"id\", \"Unnamed: 32\"], axis=1)\n"
   ]
  },
  {
   "cell_type": "code",
   "execution_count": null,
   "metadata": {
    "ExecuteTime": {
     "end_time": "2020-07-12T02:44:01.197211Z",
     "start_time": "2020-07-12T02:44:01.178016Z"
    },
    "colab": {
     "base_uri": "https://localhost:8080/",
     "height": 170
    },
    "colab_type": "code",
    "executionInfo": {
     "elapsed": 98113,
     "status": "ok",
     "timestamp": 1594207361497,
     "user": {
      "displayName": "Leon C",
      "photoUrl": "https://lh3.googleusercontent.com/a-/AOh14GirxcSFELKJsfIAZZuEJ9ZecG__1hzk1e5zOJAqUA=s64",
      "userId": "16235014008629953036"
     },
     "user_tz": -600
    },
    "id": "LPNRc1nG2sSB",
    "outputId": "1de81efc-a3bb-4f72-b988-f709a4765680"
   },
   "outputs": [],
   "source": [
    "# features\n",
    "feature_names = data.drop([class_var], axis=1).columns.to_list()\n",
    "\n",
    "# check how balanced the classes are\n",
    "data.groupby(class_var).count()"
   ]
  },
  {
   "cell_type": "markdown",
   "metadata": {
    "colab_type": "text",
    "id": "uP8zcBGa2sSD"
   },
   "source": [
    "### Balanced Dataset"
   ]
  },
  {
   "cell_type": "code",
   "execution_count": null,
   "metadata": {
    "ExecuteTime": {
     "end_time": "2020-07-12T02:44:03.708241Z",
     "start_time": "2020-07-12T02:44:03.687579Z"
    },
    "colab": {
     "base_uri": "https://localhost:8080/",
     "height": 170
    },
    "colab_type": "code",
    "executionInfo": {
     "elapsed": 98111,
     "status": "ok",
     "timestamp": 1594207361498,
     "user": {
      "displayName": "Leon C",
      "photoUrl": "https://lh3.googleusercontent.com/a-/AOh14GirxcSFELKJsfIAZZuEJ9ZecG__1hzk1e5zOJAqUA=s64",
      "userId": "16235014008629953036"
     },
     "user_tz": -600
    },
    "id": "qTcjsZcN2sSE",
    "outputId": "90ccddec-2155-464e-9393-62be7a7c0aa6"
   },
   "outputs": [],
   "source": [
    "# balance dataset\n",
    "sampled_data = data.sample(frac=1)\n",
    "sampled_data = sampled_data[ sampled_data[class_var] == 0]\n",
    "B_data = sampled_data.sample(frac=1)[0:212]\n",
    "\n",
    "M_data = data[ data[class_var] == 1]\n",
    "\n",
    "balanced_data = [B_data,M_data]\n",
    "balanced_data = pd.concat(balanced_data)\n",
    "\n",
    "# check how balanced the classes are\n",
    "balanced_data.groupby(class_var).count()"
   ]
  },
  {
   "cell_type": "code",
   "execution_count": null,
   "metadata": {
    "ExecuteTime": {
     "end_time": "2020-07-12T02:44:04.012366Z",
     "start_time": "2020-07-12T02:44:03.990252Z"
    },
    "colab": {
     "base_uri": "https://localhost:8080/",
     "height": 427
    },
    "colab_type": "code",
    "executionInfo": {
     "elapsed": 98109,
     "status": "ok",
     "timestamp": 1594207361499,
     "user": {
      "displayName": "Leon C",
      "photoUrl": "https://lh3.googleusercontent.com/a-/AOh14GirxcSFELKJsfIAZZuEJ9ZecG__1hzk1e5zOJAqUA=s64",
      "userId": "16235014008629953036"
     },
     "user_tz": -600
    },
    "id": "SQuGf7Ot2sSG",
    "outputId": "87fb2b2b-1e6c-43eb-cd6f-f7ae8465d0af"
   },
   "outputs": [],
   "source": [
    "balanced_data"
   ]
  },
  {
   "cell_type": "markdown",
   "metadata": {
    "colab_type": "text",
    "id": "lhaQao882sSI"
   },
   "source": [
    "#### Train a Model for the Balanced Dataset"
   ]
  },
  {
   "cell_type": "code",
   "execution_count": null,
   "metadata": {
    "ExecuteTime": {
     "end_time": "2020-07-12T02:44:04.890087Z",
     "start_time": "2020-07-12T02:44:04.865264Z"
    },
    "colab": {},
    "colab_type": "code",
    "executionInfo": {
     "elapsed": 102193,
     "status": "ok",
     "timestamp": 1594207365586,
     "user": {
      "displayName": "Leon C",
      "photoUrl": "https://lh3.googleusercontent.com/a-/AOh14GirxcSFELKJsfIAZZuEJ9ZecG__1hzk1e5zOJAqUA=s64",
      "userId": "16235014008629953036"
     },
     "user_tz": -600
    },
    "id": "KWu2NbCY2sSI"
   },
   "outputs": [],
   "source": [
    "# apply one hot encoder to data\n",
    "# standardize the input between 0 and 1\n",
    "X, Y, encoder, scaler = encode_data( balanced_data, class_var)\n",
    "\n",
    "n_features = X.shape[1]\n",
    "n_classes = len(balanced_data[class_var].unique())\n",
    " \n",
    "flag = False  # DO NOT CHANGE! Data has already been generated. \n",
    "if flag:\n",
    "    # save training, test and validation data\n",
    "    generate_save_training_data( dataset_path, X, Y)\n",
    "    \n",
    "    # load data\n",
    "    X_train, Y_train, X_test, Y_test, X_validation, Y_validation= load_training_data( dataset_path )\n",
    "    \n",
    "else:\n",
    "    # load existing training data\n",
    "    X_train, Y_train, X_test, Y_test, X_validation, Y_validation= load_training_data( dataset_path )\n",
    "    "
   ]
  },
  {
   "cell_type": "code",
   "execution_count": null,
   "metadata": {
    "ExecuteTime": {
     "end_time": "2020-07-12T02:44:05.139824Z",
     "start_time": "2020-07-12T02:44:05.136602Z"
    },
    "colab": {},
    "colab_type": "code",
    "executionInfo": {
     "elapsed": 102193,
     "status": "ok",
     "timestamp": 1594207365589,
     "user": {
      "displayName": "Leon C",
      "photoUrl": "https://lh3.googleusercontent.com/a-/AOh14GirxcSFELKJsfIAZZuEJ9ZecG__1hzk1e5zOJAqUA=s64",
      "userId": "16235014008629953036"
     },
     "user_tz": -600
    },
    "id": "Uc2pAk082sSK"
   },
   "outputs": [],
   "source": [
    "# generate models for grid search\n",
    "if flag:\n",
    "    models = grid_search_model_generator( n_features, n_classes )\n",
    "\n",
    "    # perform grid_search\n",
    "    HISTORY_DICT = perform_grid_search( models, PATH, DATASET_NAME.replace(\".csv\",\"\"), \n",
    "                                   X_train, Y_train, \n",
    "                                   X_validation, Y_validation, X_test, Y_test, \n",
    "                                   batch_size=8, epochs=150 )"
   ]
  },
  {
   "cell_type": "code",
   "execution_count": null,
   "metadata": {
    "ExecuteTime": {
     "end_time": "2020-07-12T02:44:05.526252Z",
     "start_time": "2020-07-12T02:44:05.452806Z"
    },
    "colab": {
     "base_uri": "https://localhost:8080/",
     "height": 358
    },
    "colab_type": "code",
    "executionInfo": {
     "elapsed": 138349,
     "status": "ok",
     "timestamp": 1594207401747,
     "user": {
      "displayName": "Leon C",
      "photoUrl": "https://lh3.googleusercontent.com/a-/AOh14GirxcSFELKJsfIAZZuEJ9ZecG__1hzk1e5zOJAqUA=s64",
      "userId": "16235014008629953036"
     },
     "user_tz": -600
    },
    "id": "LF7gUxYR2sSN",
    "outputId": "fe06ff27-0d9d-46ee-cb50-aaab52ab50f1"
   },
   "outputs": [],
   "source": [
    "path_serialisation_model = PATH + \"training/\" + DATASET_NAME.replace(\".csv\", \"\") + \"/model/\" \n",
    "path_serialisation_histr = PATH + \"training/\" + DATASET_NAME.replace(\".csv\", \"\") + \"/history/\" \n",
    "\n",
    "# the best performing model was obtained with 5 hidden layers with 12 neurons each\n",
    "model_name = \"model_h4_N12\"\n",
    "    \n",
    "if flag:\n",
    "    \n",
    "    # get respective model training history and model\n",
    "    model_history = HISTORY_DICT[ model_name ][0]\n",
    "    model = HISTORY_DICT[ model_name ][1]\n",
    "\n",
    "    # save model and model history to file\n",
    "    save_model_history(  model_history, model_name, path_serialisation_histr )\n",
    "    save_model( model, model_name, path_serialisation_model )\n",
    "    \n",
    "    # load data\n",
    "    model_history = load_model_history( model_name, path_serialisation_histr )\n",
    "    model = load_model( model_name, path_serialisation_model )\n",
    "else:\n",
    "    model_history = load_model_history( model_name, path_serialisation_histr )\n",
    "    model = load_model( model_name, path_serialisation_model )\n",
    "    \n",
    "model.summary()"
   ]
  },
  {
   "cell_type": "markdown",
   "metadata": {
    "colab_type": "text",
    "id": "y2lPnSIu2sSP"
   },
   "source": [
    "#### Evaluate Model"
   ]
  },
  {
   "cell_type": "code",
   "execution_count": null,
   "metadata": {
    "ExecuteTime": {
     "end_time": "2020-07-12T02:44:06.196674Z",
     "start_time": "2020-07-12T02:44:06.027620Z"
    },
    "colab": {
     "base_uri": "https://localhost:8080/",
     "height": 98
    },
    "colab_type": "code",
    "executionInfo": {
     "elapsed": 140384,
     "status": "ok",
     "timestamp": 1594207403787,
     "user": {
      "displayName": "Leon C",
      "photoUrl": "https://lh3.googleusercontent.com/a-/AOh14GirxcSFELKJsfIAZZuEJ9ZecG__1hzk1e5zOJAqUA=s64",
      "userId": "16235014008629953036"
     },
     "user_tz": -600
    },
    "id": "gxy1tqG42sSP",
    "outputId": "cf954a40-51d1-4a2e-c0fe-97389045cd83"
   },
   "outputs": [],
   "source": [
    "# evaluate loaded model on test and training data\n",
    "optim = keras.optimizers.Nadam(lr=0.0001, beta_1=0.9, beta_2=0.999)\n",
    "model.compile(loss='categorical_crossentropy', optimizer=optim, metrics=['accuracy'])\n",
    "\n",
    "train_loss, train_acc = model.evaluate(X_train, Y_train, verbose=1)\n",
    "test_loss, test_acc = model.evaluate(X_test, Y_test, verbose=1)\n",
    "\n",
    "print('\\n[Accuracy] Train: %.3f, Test: %.3f' % (train_acc, test_acc))\n",
    "print('[Loss] Train: %.3f, Test: %.3f' % (train_loss, test_loss))"
   ]
  },
  {
   "cell_type": "code",
   "execution_count": null,
   "metadata": {
    "ExecuteTime": {
     "end_time": "2020-07-12T02:44:06.564514Z",
     "start_time": "2020-07-12T02:44:06.338038Z"
    },
    "colab": {
     "base_uri": "https://localhost:8080/",
     "height": 733
    },
    "colab_type": "code",
    "executionInfo": {
     "elapsed": 140383,
     "status": "ok",
     "timestamp": 1594207403789,
     "user": {
      "displayName": "Leon C",
      "photoUrl": "https://lh3.googleusercontent.com/a-/AOh14GirxcSFELKJsfIAZZuEJ9ZecG__1hzk1e5zOJAqUA=s64",
      "userId": "16235014008629953036"
     },
     "user_tz": -600
    },
    "id": "uXTX9yE02sSS",
    "outputId": "697196a1-8439-4475-cea7-255853afb0f8"
   },
   "outputs": [],
   "source": [
    "%matplotlib inline\n",
    "plot_model_history( model_history, 'Accuracy' )\n",
    "plot_model_history( model_history, 'Loss' )\n"
   ]
  },
  {
   "cell_type": "code",
   "execution_count": null,
   "metadata": {
    "ExecuteTime": {
     "end_time": "2020-07-12T02:44:07.012549Z",
     "start_time": "2020-07-12T02:44:06.756897Z"
    },
    "colab": {
     "base_uri": "https://localhost:8080/",
     "height": 763
    },
    "colab_type": "code",
    "executionInfo": {
     "elapsed": 141504,
     "status": "ok",
     "timestamp": 1594207404913,
     "user": {
      "displayName": "Leon C",
      "photoUrl": "https://lh3.googleusercontent.com/a-/AOh14GirxcSFELKJsfIAZZuEJ9ZecG__1hzk1e5zOJAqUA=s64",
      "userId": "16235014008629953036"
     },
     "user_tz": -600
    },
    "id": "IKTEzI9U2sSU",
    "outputId": "fa83a219-b077-4f58-f7ac-7c7e425a3f30"
   },
   "outputs": [],
   "source": [
    "# plot ROC curve\n",
    "plot_ROC_Curve( model, X_test, Y_test, n_classes)\n",
    "\n"
   ]
  },
  {
   "cell_type": "markdown",
   "metadata": {
    "colab_type": "text",
    "id": "Gn1jlKSa2sSW"
   },
   "source": [
    "### Confusion Matrix"
   ]
  },
  {
   "cell_type": "code",
   "execution_count": null,
   "metadata": {
    "ExecuteTime": {
     "end_time": "2020-07-12T02:44:07.749130Z",
     "start_time": "2020-07-12T02:44:07.603910Z"
    },
    "colab": {
     "base_uri": "https://localhost:8080/",
     "height": 375
    },
    "colab_type": "code",
    "executionInfo": {
     "elapsed": 141503,
     "status": "ok",
     "timestamp": 1594207404915,
     "user": {
      "displayName": "Leon C",
      "photoUrl": "https://lh3.googleusercontent.com/a-/AOh14GirxcSFELKJsfIAZZuEJ9ZecG__1hzk1e5zOJAqUA=s64",
      "userId": "16235014008629953036"
     },
     "user_tz": -600
    },
    "id": "Y4zob5zU2sSW",
    "outputId": "2578db3e-0033-45f3-864e-b617142c844f"
   },
   "outputs": [],
   "source": [
    "from sklearn.metrics import confusion_matrix\n",
    "from matplotlib import cm\n",
    "\n",
    "groundtruth = encoder.inverse_transform( Y_test )\n",
    "predictions = encoder.inverse_transform( model.predict( X_test ) )\n",
    "\n",
    "mat = confusion_matrix(groundtruth, predictions)\n",
    "sns.heatmap(mat.T, cbar=True, xticklabels=[\"Benign\", \"Malignant\"], \\\n",
    "            yticklabels=[\"Benign\", \"Malignant\"], annot=True, cmap=cm.viridis)\n",
    "\n",
    "plt.xlabel('true label')\n",
    "plt.ylabel('predicted label');"
   ]
  },
  {
   "cell_type": "markdown",
   "metadata": {
    "colab_type": "text",
    "id": "HC0WoD0e2sSY"
   },
   "source": [
    "### Searching for specific datapoints for local evaluation"
   ]
  },
  {
   "cell_type": "code",
   "execution_count": null,
   "metadata": {
    "ExecuteTime": {
     "end_time": "2020-07-12T02:44:13.842203Z",
     "start_time": "2020-07-12T02:44:13.814541Z"
    },
    "colab": {},
    "colab_type": "code",
    "executionInfo": {
     "elapsed": 141501,
     "status": "ok",
     "timestamp": 1594207404917,
     "user": {
      "displayName": "Leon C",
      "photoUrl": "https://lh3.googleusercontent.com/a-/AOh14GirxcSFELKJsfIAZZuEJ9ZecG__1hzk1e5zOJAqUA=s64",
      "userId": "16235014008629953036"
     },
     "user_tz": -600
    },
    "id": "m-6eqfFd2sSY"
   },
   "outputs": [],
   "source": [
    "local_data_dict = generate_local_predictions( X_test, Y_test, model, scaler, encoder )\n"
   ]
  },
  {
   "cell_type": "code",
   "execution_count": null,
   "metadata": {
    "ExecuteTime": {
     "end_time": "2020-07-12T02:44:17.428671Z",
     "start_time": "2020-07-12T02:44:17.423999Z"
    },
    "colab": {},
    "colab_type": "code",
    "executionInfo": {
     "elapsed": 141500,
     "status": "ok",
     "timestamp": 1594207404919,
     "user": {
      "displayName": "Leon C",
      "photoUrl": "https://lh3.googleusercontent.com/a-/AOh14GirxcSFELKJsfIAZZuEJ9ZecG__1hzk1e5zOJAqUA=s64",
      "userId": "16235014008629953036"
     },
     "user_tz": -600
    },
    "id": "5Fpa3RGN2sSa"
   },
   "outputs": [],
   "source": [
    "\n",
    "# wrapping up information\n",
    "true_positives = []\n",
    "true_negatives = []\n",
    "false_positives = []\n",
    "false_negatives = []\n",
    "for instance in local_data_dict:\n",
    "    \n",
    "    if( instance['prediction_type'] == 'TRUE POSITIVE'):\n",
    "        true_positives.append(instance)\n",
    "\n",
    "    if( instance['prediction_type'] == 'TRUE NEGATIVE' ):\n",
    "        true_negatives.append(instance)\n",
    "        \n",
    "    if( instance['prediction_type'] == 'FALSE POSITIVE' ):\n",
    "        false_positives.append(instance)\n",
    "        \n",
    "    if( instance['prediction_type'] == 'FALSE NEGATIVE' ):\n",
    "        false_negatives.append(instance)"
   ]
  },
  {
   "cell_type": "markdown",
   "metadata": {
    "colab_type": "text",
    "id": "dPuzFIK4DXGw"
   },
   "source": [
    "### Generating Explanations with Bayesian Networks"
   ]
  },
  {
   "cell_type": "code",
   "execution_count": 111,
   "metadata": {
    "ExecuteTime": {
     "end_time": "2020-07-12T08:14:26.403050Z",
     "start_time": "2020-07-12T08:14:26.400375Z"
    },
    "colab": {},
    "colab_type": "code",
    "executionInfo": {
     "elapsed": 141498,
     "status": "ok",
     "timestamp": 1594207404920,
     "user": {
      "displayName": "Leon C",
      "photoUrl": "https://lh3.googleusercontent.com/a-/AOh14GirxcSFELKJsfIAZZuEJ9ZecG__1hzk1e5zOJAqUA=s64",
      "userId": "16235014008629953036"
     },
     "user_tz": -600
    },
    "id": "ePn748j6DaHw"
   },
   "outputs": [],
   "source": [
    "label_lst = [\"No\", \"Yes\"]\n",
    "class_var = \"diagnosis\"\n",
    "\n",
    "VAR = 1\n"
   ]
  },
  {
   "cell_type": "markdown",
   "metadata": {
    "colab_type": "text",
    "id": "ktBDIoQ1D4Dn"
   },
   "source": [
    "#### TRUE POSITIVES"
   ]
  },
  {
   "cell_type": "code",
   "execution_count": 112,
   "metadata": {
    "ExecuteTime": {
     "end_time": "2020-07-12T08:16:06.034681Z",
     "start_time": "2020-07-12T08:14:27.039124Z"
    },
    "colab": {
     "base_uri": "https://localhost:8080/",
     "height": 1000,
     "output_embedded_package_id": "1R0Pwyib85SoEYWriIkM2VjD2FjRpDbV9"
    },
    "colab_type": "code",
    "executionInfo": {
     "elapsed": 191050,
     "status": "ok",
     "timestamp": 1594207454483,
     "user": {
      "displayName": "Leon C",
      "photoUrl": "https://lh3.googleusercontent.com/a-/AOh14GirxcSFELKJsfIAZZuEJ9ZecG__1hzk1e5zOJAqUA=s64",
      "userId": "16235014008629953036"
     },
     "user_tz": -600
    },
    "id": "FYoxhEfe_10H",
    "outputId": "2a993e9f-1b50-4440-8dc3-53f17bf9e97a",
    "scrolled": true
   },
   "outputs": [
    {
     "name": "stdout",
     "output_type": "stream",
     "text": [
      "[27, 35, 1, 0]\n",
      "INDEX = 0\n",
      "Selecting Greedy Hill Climbing Algorithm\n",
      "RULE 1\n",
      "INDEX = 1\n",
      "Selecting Greedy Hill Climbing Algorithm\n",
      "RULE 1\n",
      "INDEX = 2\n",
      "Selecting Greedy Hill Climbing Algorithm\n",
      "RULE 1\n",
      "INDEX = 5\n",
      "Selecting Greedy Hill Climbing Algorithm\n",
      "RULE 1\n",
      "INDEX = 7\n",
      "Selecting Greedy Hill Climbing Algorithm\n",
      "RULE 1\n",
      "INDEX = 9\n",
      "Selecting Greedy Hill Climbing Algorithm\n",
      "RULE 1\n",
      "INDEX = 10\n",
      "Selecting Greedy Hill Climbing Algorithm\n",
      "RULE 1\n",
      "INDEX = 12\n",
      "Selecting Greedy Hill Climbing Algorithm\n",
      "RULE 1\n",
      "INDEX = 16\n",
      "Selecting Greedy Hill Climbing Algorithm\n",
      "RULE 1\n",
      "INDEX = 18\n",
      "Selecting Greedy Hill Climbing Algorithm\n",
      "RULE 1\n",
      "INDEX = 19\n",
      "Selecting Greedy Hill Climbing Algorithm\n",
      "RULE 1\n",
      "INDEX = 27\n",
      "Selecting Greedy Hill Climbing Algorithm\n",
      "RULE 1\n",
      "INDEX = 30\n",
      "Selecting Greedy Hill Climbing Algorithm\n",
      "RULE 1\n",
      "INDEX = 33\n",
      "Selecting Greedy Hill Climbing Algorithm\n",
      "RULE 1\n",
      "INDEX = 35\n",
      "Selecting Greedy Hill Climbing Algorithm\n",
      "RULE 1\n",
      "INDEX = 36\n",
      "Selecting Greedy Hill Climbing Algorithm\n",
      "RULE 1\n",
      "INDEX = 38\n",
      "Selecting Greedy Hill Climbing Algorithm\n",
      "RULE 1\n",
      "INDEX = 40\n",
      "Selecting Greedy Hill Climbing Algorithm\n",
      "RULE 1\n",
      "INDEX = 41\n",
      "Selecting Greedy Hill Climbing Algorithm\n",
      "RULE 1\n",
      "INDEX = 45\n",
      "Selecting Greedy Hill Climbing Algorithm\n",
      "RULE 1\n",
      "INDEX = 49\n",
      "Selecting Greedy Hill Climbing Algorithm\n",
      "RULE 1\n",
      "INDEX = 52\n",
      "Selecting Greedy Hill Climbing Algorithm\n",
      "RULE 1\n",
      "INDEX = 53\n",
      "Selecting Greedy Hill Climbing Algorithm\n",
      "RULE 1\n",
      "INDEX = 54\n",
      "Selecting Greedy Hill Climbing Algorithm\n",
      "RULE 1\n",
      "INDEX = 55\n",
      "Selecting Greedy Hill Climbing Algorithm\n",
      "RULE 1\n",
      "INDEX = 60\n",
      "Selecting Greedy Hill Climbing Algorithm\n",
      "RULE 1\n",
      "INDEX = 62\n",
      "Selecting Greedy Hill Climbing Algorithm\n",
      "RULE 1\n"
     ]
    }
   ],
   "source": [
    "\n",
    "print([len(true_positives), len(true_negatives), len(false_positives), len(false_negatives)])\n",
    "\n",
    "RULE1 = 0\n",
    "RULE2 = 0\n",
    "RULE3 = 0\n",
    "RULE4 = 0\n",
    "RULE5 = 0\n",
    "\n",
    "for instance in true_positives:\n",
    "\n",
    "    # get instance index\n",
    "    indx = instance['index']\n",
    "    print(\"INDEX = \" + str(indx))\n",
    "    \n",
    "    [bn, inference, infoBN, markov_blanket] = generate_BN_explanationsMB(instance, label_lst, feature_names, \n",
    "                                                        class_var, encoder, scaler, model, PATH, DATASET_NAME, \n",
    "                                                        variance = VAR)\n",
    "    ie=gum.LazyPropagation(bn)\n",
    "    ie.makeInference()\n",
    "    pos_class = ie.posterior(class_var)\n",
    "\n",
    "    indx_yes = -1\n",
    "    indx_no = -1\n",
    "\n",
    "    if( len(markov_blanket.nodes()) == 1 ):\n",
    "        RULE2 = RULE2+1    \n",
    "        continue\n",
    "    \n",
    "    if (len(bn.variableFromName(class_var).labels()) == 1 ):\n",
    "\n",
    "        if( bn.variableFromName(class_var).labels()[0] == \"Yes\" ):\n",
    "            if( pos_class[0] >= 0.90 ):\n",
    "                RULE1 = RULE1 + 1\n",
    "                print(\"RULE 1\")\n",
    "        #if( bn.variableFromName(class_var).labels()[0] == \"No\" ):\n",
    "        #    gnb.sideBySide(*[bn, inference, markov_blanket  ], captions=[ \"Bayesian Network\", \"Inference\", \"Markov Blanket\" ])\n",
    "\n",
    "              \n",
    "    if (len(bn.variableFromName(class_var).labels()) == 2 ):\n",
    "        value_yes = pos_class[1]\n",
    "        value_no = pos_class[0]\n",
    "\n",
    "        if( value_yes >= 0.90 ):\n",
    "            RULE1 = RULE1 + 1\n",
    "            print(\"RULE 1\")\n",
    "\n",
    "        if( (value_no > value_yes) & (np.round(value_no) == 1) ):\n",
    "            RULE3 = RULE3 + 1\n",
    "            print(\"RULE 3\")\n",
    "\n",
    "\n",
    "        if( (value_yes > value_no) & (value_yes < 0.9) ):\n",
    "            print(\"RULE 4 or 5\")\n",
    "            RULE4 = RULE4 + 1\n",
    "            #gnb.sideBySide(*[bn, inference, markov_blanket  ], captions=[ \"Bayesian Network\", \"Inference\", \"Markov Blanket\" ])\n"
   ]
  },
  {
   "cell_type": "code",
   "execution_count": 113,
   "metadata": {
    "ExecuteTime": {
     "end_time": "2020-07-12T08:16:06.198132Z",
     "start_time": "2020-07-12T08:16:06.194002Z"
    }
   },
   "outputs": [
    {
     "name": "stdout",
     "output_type": "stream",
     "text": [
      "[27, 0, 0, 0]\n"
     ]
    }
   ],
   "source": [
    "print( [RULE1, RULE2, RULE3, RULE4] )"
   ]
  },
  {
   "cell_type": "markdown",
   "metadata": {
    "colab": {},
    "colab_type": "code",
    "executionInfo": {
     "elapsed": 382493,
     "status": "ok",
     "timestamp": 1594207645963,
     "user": {
      "displayName": "Leon C",
      "photoUrl": "https://lh3.googleusercontent.com/a-/AOh14GirxcSFELKJsfIAZZuEJ9ZecG__1hzk1e5zOJAqUA=s64",
      "userId": "16235014008629953036"
     },
     "user_tz": -600
    },
    "id": "HjuuxW5pRnsj"
   },
   "source": [
    "#### TRUE NEGATIVES"
   ]
  },
  {
   "cell_type": "code",
   "execution_count": 114,
   "metadata": {
    "ExecuteTime": {
     "end_time": "2020-07-12T08:18:18.447453Z",
     "start_time": "2020-07-12T08:16:06.351398Z"
    }
   },
   "outputs": [
    {
     "name": "stdout",
     "output_type": "stream",
     "text": [
      "[27, 35, 1, 0]\n",
      "INDEX = 3\n",
      "Selecting Greedy Hill Climbing Algorithm\n",
      "RULE 3\n",
      "INDEX = 4\n",
      "Selecting Greedy Hill Climbing Algorithm\n",
      "RULE 3\n",
      "INDEX = 6\n",
      "Selecting Greedy Hill Climbing Algorithm\n",
      "RULE 3\n",
      "INDEX = 8\n",
      "Selecting Greedy Hill Climbing Algorithm\n",
      "RULE 3\n",
      "INDEX = 11\n",
      "Selecting Greedy Hill Climbing Algorithm\n",
      "RULE 3\n",
      "INDEX = 13\n",
      "Selecting Greedy Hill Climbing Algorithm\n",
      "RULE 3\n",
      "INDEX = 14\n",
      "Selecting Greedy Hill Climbing Algorithm\n",
      "RULE 3\n",
      "INDEX = 15\n",
      "Selecting Greedy Hill Climbing Algorithm\n",
      "RULE 3\n",
      "INDEX = 17\n",
      "Selecting Greedy Hill Climbing Algorithm\n",
      "RULE 3\n",
      "INDEX = 20\n",
      "Selecting Greedy Hill Climbing Algorithm\n",
      "RULE 3\n",
      "INDEX = 21\n",
      "Selecting Greedy Hill Climbing Algorithm\n",
      "RULE 3\n",
      "INDEX = 22\n",
      "Selecting Greedy Hill Climbing Algorithm\n",
      "RULE 3\n",
      "INDEX = 23\n",
      "Selecting Greedy Hill Climbing Algorithm\n",
      "RULE 3\n",
      "INDEX = 24\n",
      "Selecting Greedy Hill Climbing Algorithm\n",
      "RULE 3\n",
      "INDEX = 25\n",
      "Selecting Greedy Hill Climbing Algorithm\n",
      "RULE 3\n",
      "INDEX = 26\n",
      "Selecting Greedy Hill Climbing Algorithm\n",
      "RULE 3\n",
      "INDEX = 28\n",
      "Selecting Greedy Hill Climbing Algorithm\n",
      "RULE 3\n",
      "INDEX = 29\n",
      "Selecting Greedy Hill Climbing Algorithm\n",
      "RULE 3\n",
      "INDEX = 31\n",
      "Selecting Greedy Hill Climbing Algorithm\n",
      "RULE 3\n",
      "INDEX = 32\n",
      "Selecting Greedy Hill Climbing Algorithm\n",
      "RULE 3\n",
      "INDEX = 34\n",
      "Selecting Greedy Hill Climbing Algorithm\n",
      "RULE 3\n",
      "INDEX = 37\n",
      "Selecting Greedy Hill Climbing Algorithm\n",
      "RULE 3\n",
      "INDEX = 39\n",
      "Selecting Greedy Hill Climbing Algorithm\n",
      "RULE 3\n",
      "INDEX = 42\n",
      "Selecting Greedy Hill Climbing Algorithm\n",
      "RULE 3\n",
      "INDEX = 43\n",
      "Selecting Greedy Hill Climbing Algorithm\n",
      "RULE 3\n",
      "INDEX = 44\n",
      "Selecting Greedy Hill Climbing Algorithm\n",
      "RULE 3\n",
      "INDEX = 46\n",
      "Selecting Greedy Hill Climbing Algorithm\n",
      "RULE 3\n",
      "INDEX = 48\n",
      "Selecting Greedy Hill Climbing Algorithm\n",
      "RULE 3\n",
      "INDEX = 50\n",
      "Selecting Greedy Hill Climbing Algorithm\n",
      "RULE 3\n",
      "INDEX = 51\n",
      "Selecting Greedy Hill Climbing Algorithm\n",
      "RULE 3\n",
      "INDEX = 56\n",
      "Selecting Greedy Hill Climbing Algorithm\n",
      "RULE 3\n",
      "INDEX = 57\n",
      "Selecting Greedy Hill Climbing Algorithm\n",
      "RULE 3\n",
      "INDEX = 58\n",
      "Selecting Greedy Hill Climbing Algorithm\n",
      "RULE 3\n",
      "INDEX = 59\n",
      "Selecting Greedy Hill Climbing Algorithm\n",
      "RULE 3\n",
      "INDEX = 61\n",
      "Selecting Greedy Hill Climbing Algorithm\n",
      "RULE 3\n"
     ]
    }
   ],
   "source": [
    "print([len(true_positives), len(true_negatives), len(false_positives), len(false_negatives)])\n",
    "\n",
    "RULE1 = 0\n",
    "RULE2 = 0\n",
    "RULE3 = 0\n",
    "RULE4 = 0\n",
    "RULE5 = 0\n",
    "\n",
    "for instance in true_negatives:\n",
    "\n",
    "    # get instance index\n",
    "    indx = instance['index']\n",
    "    print(\"INDEX = \" + str(indx))\n",
    "    \n",
    "    [bn, inference, infoBN, markov_blanket] = generate_BN_explanationsMB(instance, label_lst, feature_names, \n",
    "                                                        class_var, encoder, scaler, model, PATH, DATASET_NAME, \n",
    "                                                        variance = VAR)\n",
    "    ie=gum.LazyPropagation(bn)\n",
    "    ie.makeInference()\n",
    "    pos_class = ie.posterior(class_var)\n",
    "\n",
    "    indx_yes = -1\n",
    "    indx_no = -1\n",
    "    \n",
    "    if( len(markov_blanket.nodes()) == 1 ):\n",
    "        RULE2 = RULE2+1\n",
    "        continue\n",
    "        \n",
    "    if (len(bn.variableFromName(class_var).labels()) == 1 ):\n",
    "\n",
    "        if( bn.variableFromName(class_var).labels()[0] == \"No\" ):\n",
    "            if( pos_class[0] >= 0.90 ):\n",
    "                RULE1 = RULE1 + 1\n",
    "                print(\"RULE 1\")\n",
    "        #if( bn.variableFromName(class_var).labels()[0] == \"Yes\" ):\n",
    "        #    gnb.sideBySide(*[bn, inference, markov_blanket  ], captions=[ \"Bayesian Network\", \"Inference\", \"Markov Blanket\" ])\n",
    "\n",
    "              \n",
    "    if (len(bn.variableFromName(class_var).labels()) == 2 ):\n",
    "        value_yes = pos_class[1]\n",
    "        value_no = pos_class[0]\n",
    "\n",
    "        if( value_no >= 0.90 ):\n",
    "            RULE1 = RULE1 + 1\n",
    "            print(\"RULE 1\")\n",
    "\n",
    "        if( (value_yes > value_no) & (np.round(value_yes) == 1) ):\n",
    "            RULE3 = RULE3 + 1\n",
    "            print(\"RULE 3\")\n",
    "\n",
    "\n",
    "        if( (value_no > value_yes) & (value_no < 0.9) ):\n",
    "            print(\"RULE 4 or 5\")\n",
    "            RULE4 = RULE4 + 1\n",
    "            #gnb.sideBySide(*[bn, inference, markov_blanket  ], captions=[ \"Bayesian Network\", \"Inference\", \"Markov Blanket\" ])\n"
   ]
  },
  {
   "cell_type": "code",
   "execution_count": 115,
   "metadata": {
    "ExecuteTime": {
     "end_time": "2020-07-12T08:18:18.625126Z",
     "start_time": "2020-07-12T08:18:18.622797Z"
    }
   },
   "outputs": [
    {
     "name": "stdout",
     "output_type": "stream",
     "text": [
      "[0, 0, 35, 0]\n"
     ]
    }
   ],
   "source": [
    "print( [RULE1, RULE2, RULE3, RULE4] )"
   ]
  },
  {
   "cell_type": "markdown",
   "metadata": {},
   "source": [
    "#### FALSE POSITIVES"
   ]
  },
  {
   "cell_type": "code",
   "execution_count": 116,
   "metadata": {
    "ExecuteTime": {
     "end_time": "2020-07-12T08:18:22.321576Z",
     "start_time": "2020-07-12T08:18:18.785049Z"
    }
   },
   "outputs": [
    {
     "name": "stdout",
     "output_type": "stream",
     "text": [
      "[27, 35, 1, 0]\n",
      "INDEX = 47\n",
      "Selecting Greedy Hill Climbing Algorithm\n",
      "RULE 1\n"
     ]
    }
   ],
   "source": [
    "print([len(true_positives), len(true_negatives), len(false_positives), len(false_negatives)])\n",
    "\n",
    "RULE1 = 0\n",
    "RULE2 = 0\n",
    "RULE3 = 0\n",
    "RULE4 = 0\n",
    "RULE5 = 0\n",
    "\n",
    "for instance in false_positives:\n",
    "\n",
    "    # get instance index\n",
    "    indx = instance['index']\n",
    "    print(\"INDEX = \" + str(indx))\n",
    "    \n",
    "    [bn, inference, infoBN, markov_blanket] = generate_BN_explanationsMB(instance, label_lst, feature_names, \n",
    "                                                        class_var, encoder, scaler, model, PATH, DATASET_NAME, \n",
    "                                                        variance = VAR)\n",
    "    ie=gum.LazyPropagation(bn)\n",
    "    ie.makeInference()\n",
    "    pos_class = ie.posterior(class_var)\n",
    "\n",
    "    indx_yes = -1\n",
    "    indx_no = -1\n",
    "\n",
    "    if( len(markov_blanket.nodes()) == 1 ):\n",
    "        RULE2 = RULE2+1\n",
    "        continue\n",
    "    \n",
    "    if (len(bn.variableFromName(class_var).labels()) == 1 ):\n",
    "\n",
    "        if( bn.variableFromName(class_var).labels()[0] == \"Yes\" ):\n",
    "            if( pos_class[0] >= 0.90 ):\n",
    "                RULE1 = RULE1 + 1\n",
    "                print(\"RULE 1\")\n",
    "        #if( bn.variableFromName(class_var).labels()[0] == \"No\" ):\n",
    "            #gnb.sideBySide(*[bn, inference, markov_blanket  ], captions=[ \"Bayesian Network\", \"Inference\", \"Markov Blanket\" ])\n",
    "\n",
    "              \n",
    "    if (len(bn.variableFromName(class_var).labels()) == 2 ):\n",
    "        value_yes = pos_class[1]\n",
    "        value_no = pos_class[0]\n",
    "\n",
    "        if( value_yes >= 0.90 ):\n",
    "            RULE1 = RULE1 + 1\n",
    "            print(\"RULE 1\")\n",
    "\n",
    "        if( (value_no > value_yes) & (np.round(value_no) == 1) ):\n",
    "            RULE3 = RULE3 + 1\n",
    "            print(\"RULE 3\")\n",
    "\n",
    "\n",
    "        if( (value_yes > value_no) & (value_yes < 0.9) ):\n",
    "            print(\"RULE 4 or 5\")\n",
    "            RULE4 = RULE4 + 1\n",
    "            #gnb.sideBySide(*[bn, inference, markov_blanket  ], captions=[ \"Bayesian Network\", \"Inference\", \"Markov Blanket\" ])\n",
    "            \n",
    "            "
   ]
  },
  {
   "cell_type": "code",
   "execution_count": 117,
   "metadata": {
    "ExecuteTime": {
     "end_time": "2020-07-12T08:18:22.490886Z",
     "start_time": "2020-07-12T08:18:22.487695Z"
    }
   },
   "outputs": [
    {
     "name": "stdout",
     "output_type": "stream",
     "text": [
      "[1, 0, 0, 0]\n"
     ]
    }
   ],
   "source": [
    "print( [RULE1, RULE2, RULE3, RULE4] )"
   ]
  },
  {
   "cell_type": "markdown",
   "metadata": {},
   "source": [
    "#### FALSE NEGATIVES"
   ]
  },
  {
   "cell_type": "code",
   "execution_count": 118,
   "metadata": {
    "ExecuteTime": {
     "end_time": "2020-07-12T08:18:22.654684Z",
     "start_time": "2020-07-12T08:18:22.644675Z"
    }
   },
   "outputs": [
    {
     "name": "stdout",
     "output_type": "stream",
     "text": [
      "[27, 35, 1, 0]\n"
     ]
    }
   ],
   "source": [
    "print([len(true_positives), len(true_negatives), len(false_positives), len(false_negatives)])\n",
    "\n",
    "RULE1 = 0\n",
    "RULE2 = 0\n",
    "RULE3 = 0\n",
    "RULE4 = 0\n",
    "RULE5 = 0\n",
    "\n",
    "for instance in false_negatives:\n",
    "\n",
    "    # get instance index\n",
    "    indx = instance['index']\n",
    "    print(\"INDEX = \" + str(indx))\n",
    "    \n",
    "    [bn, inference, infoBN, markov_blanket] = generate_BN_explanationsMB(instance, label_lst, feature_names, \n",
    "                                                        class_var, encoder, scaler, model, PATH, DATASET_NAME, \n",
    "                                                        variance = VAR)\n",
    "    ie=gum.LazyPropagation(bn)\n",
    "    ie.makeInference()\n",
    "    pos_class = ie.posterior(class_var)\n",
    "\n",
    "    indx_yes = -1\n",
    "    indx_no = -1\n",
    "\n",
    "    if( len(markov_blanket.nodes()) == 1 ):\n",
    "        RULE2 = RULE2+1    \n",
    "        continue\n",
    "    \n",
    "    if (len(bn.variableFromName(class_var).labels()) == 1 ):\n",
    "\n",
    "        if( bn.variableFromName(class_va).labels()[0] == \"No\" ):\n",
    "            if( pos_class[0] >= 0.90 ):\n",
    "                RULE1 = RULE1 + 1\n",
    "                print(\"RULE 1\")\n",
    "        #if( bn.variableFromName().labels()[0] == \"Yes\" ):\n",
    "        #    gnb.sideBySide(*[bn, inference, markov_blanket  ], captions=[ \"Bayesian Network\", \"Inference\", \"Markov Blanket\" ])\n",
    "\n",
    "              \n",
    "    if (len(bn.variableFromName(class_var).labels()) == 2 ):\n",
    "        value_yes = pos_class[1]\n",
    "        value_no = pos_class[0]\n",
    "\n",
    "        if( value_no >= 0.90 ):\n",
    "            RULE1 = RULE1 + 1\n",
    "            print(\"RULE 1\")\n",
    "\n",
    "        if( (value_yes > value_no) & (np.round(value_yes) == 1) ):\n",
    "            RULE3 = RULE3 + 1\n",
    "            print(\"RULE 3\")\n",
    "\n",
    "\n",
    "        if( (value_no > value_yes) & (value_no < 0.9) ):\n",
    "            print(\"RULE 4 or 5\")\n",
    "            RULE4 = RULE4 + 1\n",
    "            #gnb.sideBySide(*[bn, inference, markov_blanket  ], captions=[ \"Bayesian Network\", \"Inference\", \"Markov Blanket\" ])\n"
   ]
  },
  {
   "cell_type": "code",
   "execution_count": 119,
   "metadata": {
    "ExecuteTime": {
     "end_time": "2020-07-12T08:18:22.823951Z",
     "start_time": "2020-07-12T08:18:22.821296Z"
    }
   },
   "outputs": [
    {
     "name": "stdout",
     "output_type": "stream",
     "text": [
      "[0, 0, 0, 0]\n"
     ]
    }
   ],
   "source": [
    "print( [RULE1, RULE2, RULE3, RULE4 ] )"
   ]
  },
  {
   "cell_type": "code",
   "execution_count": null,
   "metadata": {},
   "outputs": [],
   "source": []
  }
 ],
 "metadata": {
  "accelerator": "GPU",
  "colab": {
   "collapsed_sections": [],
   "name": "Cancer_Balanced_BN.ipynb",
   "provenance": [],
   "toc_visible": true
  },
  "kernelspec": {
   "display_name": "Python 3",
   "language": "python",
   "name": "python3"
  },
  "language_info": {
   "codemirror_mode": {
    "name": "ipython",
    "version": 3
   },
   "file_extension": ".py",
   "mimetype": "text/x-python",
   "name": "python",
   "nbconvert_exporter": "python",
   "pygments_lexer": "ipython3",
   "version": "3.7.4"
  },
  "toc": {
   "base_numbering": 1,
   "nav_menu": {},
   "number_sections": true,
   "sideBar": true,
   "skip_h1_title": false,
   "title_cell": "Table of Contents",
   "title_sidebar": "Contents",
   "toc_cell": false,
   "toc_position": {},
   "toc_section_display": true,
   "toc_window_display": false
  },
  "varInspector": {
   "cols": {
    "lenName": 16,
    "lenType": 16,
    "lenVar": 40
   },
   "kernels_config": {
    "python": {
     "delete_cmd_postfix": "",
     "delete_cmd_prefix": "del ",
     "library": "var_list.py",
     "varRefreshCmd": "print(var_dic_list())"
    },
    "r": {
     "delete_cmd_postfix": ") ",
     "delete_cmd_prefix": "rm(",
     "library": "var_list.r",
     "varRefreshCmd": "cat(var_dic_list()) "
    }
   },
   "types_to_exclude": [
    "module",
    "function",
    "builtin_function_or_method",
    "instance",
    "_Feature"
   ],
   "window_display": false
  }
 },
 "nbformat": 4,
 "nbformat_minor": 1
}
